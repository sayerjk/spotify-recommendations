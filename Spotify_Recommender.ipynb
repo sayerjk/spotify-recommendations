{
 "cells": [
  {
   "cell_type": "markdown",
   "metadata": {},
   "source": [
    "# DS Unit 3 Advanced Assignment (Build Week)\n",
    "\n",
    "Welcome to your first day working at ACME Corp! You are replacing an employee who just got an amazing job offer at Google on the condition that he resign at ACME corp immediately and give no notice (they're fierce competitors of ours).\n",
    "\n",
    "This has left us in a tough spot here at ACME. The person you are replacing was working on a ML-fueled Recommender System Web App built using song data from Spotify. We promised the client that we would present a basic working prototype of the app to them in just 3 days time, but the project's only half finished! We need you to dive into the code base and see if you can get a basic version of this working before the looming deadline. This is why we pay you the big bucks!\n",
    "\n",
    "## What you'll find in this repository\n",
    "\n",
    "- `Spotify_Recommender.ipynb` - This file holds a IPython notebook where the last guy was working on training the machine learning model for the recommender system using a K-Nearest Neighbors Algorithm from Scikit-Learn.\n",
    "\n",
    "- A Flask app called `spotify` that has a basic interface, but doesn't have any defined database models, doesn't have any song data added to the database, and doesn't have the Machine Learning Model added to it yet!\n",
    "\n",
    "## Next Steps?\n",
    "\n",
    "If you could do the following it would really save our bacon:\n",
    "\n",
    "- Check the Machine Learning model to see if it's making good recommendations; If it's not, let's get the app working first so that we at least have something to show the client and we'll work on improving the ML model if we have time.\n",
    "\n",
    "- We need to move all of the song data from the CSV dataset into the SQLite database so that we can query the database when we want to display the song recommendations.\n",
    "\n",
    "- We need to export the ML model from the .ipynb file and include it in the flask app somehow. I've never done it before, but the last guy said something about using a Python Package called Joblib and he shared with me these links a few days back when we were talking about it over Slack:\n",
    "\n",
    "  - <https://machinelearningmastery.com/save-load-machine-learning-models-python-scikit-learn/>\n",
    "\n",
    "  - <https://maze-runner.medium.com/deploying-the-ml-model-to-the-flask-with-joblib-53f313d24003>\n",
    "\n",
    "  - <https://www.analyticsvidhya.com/blog/2020/04/how-to-deploy-machine-learning-model-flask/>\n",
    "\n",
    "- When a person submits a Song Title, we should find that song in the database, send its data through the KNN model to find the row ids of the five most similar songs and then query the database again to get the data of the five recommended songs, and then display that data on the HTML page. There is some fake data in the app that's currently serving as a stand-in for the real data. Once we've got these pieces stitched together we'll want to replace that fake data with the real data so that the real song recommendations will show on the web page when a user submits the form.\n",
    "\n",
    "Feel free to change any of the files in the app even the HTML files if you feel like you need to. Do whatever you've got to do. I trust your judgement. That's why I hired you.\n",
    "\n",
    "## If you have time (stretch goals)\n",
    "\n",
    "If you can get everything I've listed above working then you're just amazing, but let's use all of the time available to make this as impressive as possible for the client. Here's some ideas of other improvements that could be made. I'll leave it up to you to prioritize these.\n",
    "\n",
    "- Improve the machine learning model so that it's making better recommendations.\n",
    "  - Maybe we could improve the categorical encoding of the categorical variables in the dataset.\n",
    "  - Could standardizing the data with StandardScaler help?\n",
    "  - I bet that the year in which the song was written is a really important piece of information when it comes to making quality recommendations. Can we engineer any features to emphasize the most important columns of data?\n",
    "  - Should we use a sklearn pipeline somewhere to improve our code's organization?\n",
    "  - Are there any hyperparameters that we could tune?\n",
    "  - Have we even started with the right dataset? Maybe there's a better dataset out there that we could use to train the model.\n",
    "\n",
    "- Is there anything that could be improved with the look and feel of the site like the structure of the HTML or the CSS Styling? I know you don't have very much experience with that, but hey, if we've got time, maybe we give it a shot.\n",
    "\n",
    "- Can we get the site deployed to Heroku so that we can share a link to the app directly with the client rather than having to show them the development version on one of our computers?\n",
    "\n",
    "- Maybe we could use the [Spotify API](https://developer.spotify.com/documentation/web-api/) to get additional data about the songs that we have. If we could get information about the song's genre, I bet that would really help us make better recommendations!\n"
   ]
  },
  {
   "cell_type": "markdown",
   "metadata": {
    "id": "grXszmlPWj7j"
   },
   "source": [
    "# Spotify Recommender System\n",
    "\n",
    "Dataset: <https://www.kaggle.com/datasets/rodolfofigueroa/spotify-12m-songs>\n",
    "\n",
    "If you're working in Google Colab it will take a few minutes to upload this dataset. It will be faster if you're able to work in a local Jupyter notebook (By the way, VS Code can run notebooks. Try saving a file with the extension `.ipynb` and then open it in VS Code). \n",
    "\n",
    "You might want to subset this dataset to something like 100k rows right off of the bat so that it's easier to work with. You can do all of your modeling with the 100k row version and then once you've got things working the way you want them to you can run the notebook once with the entire dataset. "
   ]
  },
  {
   "cell_type": "code",
   "execution_count": 1,
   "metadata": {
    "id": "J9IpcMC7WZpE"
   },
   "outputs": [],
   "source": [
    "import pandas as pd\n",
    "import numpy as np\n",
    "from sklearn.neighbors import NearestNeighbors"
   ]
  },
  {
   "cell_type": "code",
   "execution_count": 2,
   "metadata": {
    "id": "QGPnCBIEf6Lf"
   },
   "outputs": [],
   "source": [
    "# Load dataset and sample it down to 8% of the original size\n",
    "# Reset index after sampling to make indices easier to reason about\n",
    "df = pd.read_csv('tracks_features.csv')\n",
    "df = df.sample(frac=.08, random_state=42).reset_index()\n",
    "\n",
    "# Drop old index to avoid confusing it for the new one\n",
    "# df = df.drop(columns=['index'])"
   ]
  },
  {
   "cell_type": "markdown",
   "metadata": {
    "id": "hVnnISFOgo3v"
   },
   "source": [
    "### Usable Columns?\n",
    "\n",
    "Looking at columns ready to use for a basic recommendation system. I could improve this if I make more columns or feature engineer more columns, but I want to get to a working prototype as fast as possible.\n",
    "\n",
    "- explicit\n",
    "- danceability\n",
    "- energy\n",
    "- key\n",
    "- loudness\n",
    "- mode\n",
    "- speechiness\n",
    "- acousticness\n",
    "- time_signature\n",
    "- year \n",
    "\n",
    "Todo:\n",
    "\n",
    "- Check for Null Values (None)\n",
    "- Categorically encode `explicit` column"
   ]
  },
  {
   "cell_type": "code",
   "execution_count": 3,
   "metadata": {
    "colab": {
     "base_uri": "https://localhost:8080/"
    },
    "id": "ywEvxnD6gN3H",
    "outputId": "f550f7de-563a-482c-98a0-9b9239d4e0b6"
   },
   "outputs": [
    {
     "data": {
      "text/plain": [
       "(96322, 25)"
      ]
     },
     "execution_count": 3,
     "metadata": {},
     "output_type": "execute_result"
    }
   ],
   "source": [
    "df.shape"
   ]
  },
  {
   "cell_type": "code",
   "execution_count": 4,
   "metadata": {
    "colab": {
     "base_uri": "https://localhost:8080/"
    },
    "id": "GEswycLHgRdi",
    "outputId": "ad5d63a3-3ebd-407a-ebed-3f89a78233f9"
   },
   "outputs": [
    {
     "data": {
      "text/plain": [
       "Index(['index', 'id', 'name', 'album', 'album_id', 'artists', 'artist_ids',\n",
       "       'track_number', 'disc_number', 'explicit', 'danceability', 'energy',\n",
       "       'key', 'loudness', 'mode', 'speechiness', 'acousticness',\n",
       "       'instrumentalness', 'liveness', 'valence', 'tempo', 'duration_ms',\n",
       "       'time_signature', 'year', 'release_date'],\n",
       "      dtype='object')"
      ]
     },
     "execution_count": 4,
     "metadata": {},
     "output_type": "execute_result"
    }
   ],
   "source": [
    "df.columns"
   ]
  },
  {
   "cell_type": "code",
   "execution_count": 5,
   "metadata": {
    "colab": {
     "base_uri": "https://localhost:8080/",
     "height": 525
    },
    "id": "r4F6qfJ_gz1a",
    "outputId": "9177d165-9465-43db-a1d9-8495c7ace33e",
    "scrolled": true
   },
   "outputs": [
    {
     "data": {
      "text/html": [
       "<div>\n",
       "<style scoped>\n",
       "    .dataframe tbody tr th:only-of-type {\n",
       "        vertical-align: middle;\n",
       "    }\n",
       "\n",
       "    .dataframe tbody tr th {\n",
       "        vertical-align: top;\n",
       "    }\n",
       "\n",
       "    .dataframe thead th {\n",
       "        text-align: right;\n",
       "    }\n",
       "</style>\n",
       "<table border=\"1\" class=\"dataframe\">\n",
       "  <thead>\n",
       "    <tr style=\"text-align: right;\">\n",
       "      <th></th>\n",
       "      <th>index</th>\n",
       "      <th>id</th>\n",
       "      <th>name</th>\n",
       "      <th>album</th>\n",
       "      <th>album_id</th>\n",
       "      <th>artists</th>\n",
       "      <th>artist_ids</th>\n",
       "      <th>track_number</th>\n",
       "      <th>disc_number</th>\n",
       "      <th>explicit</th>\n",
       "      <th>...</th>\n",
       "      <th>speechiness</th>\n",
       "      <th>acousticness</th>\n",
       "      <th>instrumentalness</th>\n",
       "      <th>liveness</th>\n",
       "      <th>valence</th>\n",
       "      <th>tempo</th>\n",
       "      <th>duration_ms</th>\n",
       "      <th>time_signature</th>\n",
       "      <th>year</th>\n",
       "      <th>release_date</th>\n",
       "    </tr>\n",
       "  </thead>\n",
       "  <tbody>\n",
       "    <tr>\n",
       "      <th>0</th>\n",
       "      <td>54449</td>\n",
       "      <td>1aGS6nf2xgv3Xzdob4eOO3</td>\n",
       "      <td>Smokin' Sticky Sticky</td>\n",
       "      <td>Beat'n Down Yo Block</td>\n",
       "      <td>5ZO72kl3xMRRzlpod55k1Q</td>\n",
       "      <td>['Unk']</td>\n",
       "      <td>['0PGtMx1bsqoCHCy3MB3gXA']</td>\n",
       "      <td>15</td>\n",
       "      <td>1</td>\n",
       "      <td>True</td>\n",
       "      <td>...</td>\n",
       "      <td>0.4020</td>\n",
       "      <td>0.002100</td>\n",
       "      <td>0.000000</td>\n",
       "      <td>0.0691</td>\n",
       "      <td>0.422</td>\n",
       "      <td>87.988</td>\n",
       "      <td>380427</td>\n",
       "      <td>4.0</td>\n",
       "      <td>2006</td>\n",
       "      <td>2006-10-03</td>\n",
       "    </tr>\n",
       "    <tr>\n",
       "      <th>1</th>\n",
       "      <td>127106</td>\n",
       "      <td>0fJfoqHIIiET2EcgjOfntG</td>\n",
       "      <td>Holding Back the Years</td>\n",
       "      <td>Holding Back The Years</td>\n",
       "      <td>7sV4kCqQYt8agM5TjkdOYU</td>\n",
       "      <td>['Norm Douglas']</td>\n",
       "      <td>['4kxKyoiYhldUlnfeCZtD0D']</td>\n",
       "      <td>1</td>\n",
       "      <td>1</td>\n",
       "      <td>False</td>\n",
       "      <td>...</td>\n",
       "      <td>0.0333</td>\n",
       "      <td>0.316000</td>\n",
       "      <td>0.775000</td>\n",
       "      <td>0.0993</td>\n",
       "      <td>0.880</td>\n",
       "      <td>170.082</td>\n",
       "      <td>266520</td>\n",
       "      <td>4.0</td>\n",
       "      <td>2008</td>\n",
       "      <td>2008-06-13</td>\n",
       "    </tr>\n",
       "    <tr>\n",
       "      <th>2</th>\n",
       "      <td>11213</td>\n",
       "      <td>0V2R2LC8dR7S0REieXRaGt</td>\n",
       "      <td>All Along The Watchtower - Live - 1991</td>\n",
       "      <td>Back On The Bus, Y'All</td>\n",
       "      <td>3jmmx4jRkul3POEhn1cgwF</td>\n",
       "      <td>['Indigo Girls']</td>\n",
       "      <td>['4wM29TDTr3HI0qFY3KoSFG']</td>\n",
       "      <td>7</td>\n",
       "      <td>1</td>\n",
       "      <td>False</td>\n",
       "      <td>...</td>\n",
       "      <td>0.0379</td>\n",
       "      <td>0.709000</td>\n",
       "      <td>0.000000</td>\n",
       "      <td>0.9390</td>\n",
       "      <td>0.430</td>\n",
       "      <td>90.648</td>\n",
       "      <td>383773</td>\n",
       "      <td>4.0</td>\n",
       "      <td>1991</td>\n",
       "      <td>1991-06-04</td>\n",
       "    </tr>\n",
       "    <tr>\n",
       "      <th>3</th>\n",
       "      <td>369031</td>\n",
       "      <td>4VUHYLocWOJ2GfvP78AmSs</td>\n",
       "      <td>Windmills</td>\n",
       "      <td>Total Folklore</td>\n",
       "      <td>5PyLkzuxmT6EoVNZCg8Iya</td>\n",
       "      <td>['Dan Friel']</td>\n",
       "      <td>['4HKTPJw50BFASrfhJEHIVP']</td>\n",
       "      <td>2</td>\n",
       "      <td>1</td>\n",
       "      <td>False</td>\n",
       "      <td>...</td>\n",
       "      <td>0.1090</td>\n",
       "      <td>0.000049</td>\n",
       "      <td>0.838000</td>\n",
       "      <td>0.2850</td>\n",
       "      <td>0.594</td>\n",
       "      <td>113.345</td>\n",
       "      <td>82493</td>\n",
       "      <td>4.0</td>\n",
       "      <td>2013</td>\n",
       "      <td>2013-02-19</td>\n",
       "    </tr>\n",
       "    <tr>\n",
       "      <th>4</th>\n",
       "      <td>544989</td>\n",
       "      <td>4m8a1AtmCnoeRzSYoQ0oX0</td>\n",
       "      <td>Overnite Flite</td>\n",
       "      <td>Normal Human Feelings</td>\n",
       "      <td>623VIdYR6Y0NCN9yPbMAC6</td>\n",
       "      <td>['Little Suns']</td>\n",
       "      <td>['5OLcAqMbHpecNOIQyTduQ7']</td>\n",
       "      <td>2</td>\n",
       "      <td>1</td>\n",
       "      <td>False</td>\n",
       "      <td>...</td>\n",
       "      <td>0.0323</td>\n",
       "      <td>0.427000</td>\n",
       "      <td>0.000105</td>\n",
       "      <td>0.1970</td>\n",
       "      <td>0.424</td>\n",
       "      <td>127.941</td>\n",
       "      <td>230667</td>\n",
       "      <td>1.0</td>\n",
       "      <td>2013</td>\n",
       "      <td>2013-10-08</td>\n",
       "    </tr>\n",
       "  </tbody>\n",
       "</table>\n",
       "<p>5 rows × 25 columns</p>\n",
       "</div>"
      ],
      "text/plain": [
       "    index                      id                                    name  \\\n",
       "0   54449  1aGS6nf2xgv3Xzdob4eOO3                   Smokin' Sticky Sticky   \n",
       "1  127106  0fJfoqHIIiET2EcgjOfntG                  Holding Back the Years   \n",
       "2   11213  0V2R2LC8dR7S0REieXRaGt  All Along The Watchtower - Live - 1991   \n",
       "3  369031  4VUHYLocWOJ2GfvP78AmSs                               Windmills   \n",
       "4  544989  4m8a1AtmCnoeRzSYoQ0oX0                          Overnite Flite   \n",
       "\n",
       "                    album                album_id           artists  \\\n",
       "0    Beat'n Down Yo Block  5ZO72kl3xMRRzlpod55k1Q           ['Unk']   \n",
       "1  Holding Back The Years  7sV4kCqQYt8agM5TjkdOYU  ['Norm Douglas']   \n",
       "2  Back On The Bus, Y'All  3jmmx4jRkul3POEhn1cgwF  ['Indigo Girls']   \n",
       "3          Total Folklore  5PyLkzuxmT6EoVNZCg8Iya     ['Dan Friel']   \n",
       "4   Normal Human Feelings  623VIdYR6Y0NCN9yPbMAC6   ['Little Suns']   \n",
       "\n",
       "                   artist_ids  track_number  disc_number  explicit  ...  \\\n",
       "0  ['0PGtMx1bsqoCHCy3MB3gXA']            15            1      True  ...   \n",
       "1  ['4kxKyoiYhldUlnfeCZtD0D']             1            1     False  ...   \n",
       "2  ['4wM29TDTr3HI0qFY3KoSFG']             7            1     False  ...   \n",
       "3  ['4HKTPJw50BFASrfhJEHIVP']             2            1     False  ...   \n",
       "4  ['5OLcAqMbHpecNOIQyTduQ7']             2            1     False  ...   \n",
       "\n",
       "   speechiness  acousticness  instrumentalness  liveness  valence    tempo  \\\n",
       "0       0.4020      0.002100          0.000000    0.0691    0.422   87.988   \n",
       "1       0.0333      0.316000          0.775000    0.0993    0.880  170.082   \n",
       "2       0.0379      0.709000          0.000000    0.9390    0.430   90.648   \n",
       "3       0.1090      0.000049          0.838000    0.2850    0.594  113.345   \n",
       "4       0.0323      0.427000          0.000105    0.1970    0.424  127.941   \n",
       "\n",
       "   duration_ms  time_signature  year  release_date  \n",
       "0       380427             4.0  2006    2006-10-03  \n",
       "1       266520             4.0  2008    2008-06-13  \n",
       "2       383773             4.0  1991    1991-06-04  \n",
       "3        82493             4.0  2013    2013-02-19  \n",
       "4       230667             1.0  2013    2013-10-08  \n",
       "\n",
       "[5 rows x 25 columns]"
      ]
     },
     "execution_count": 5,
     "metadata": {},
     "output_type": "execute_result"
    }
   ],
   "source": [
    "df.head()"
   ]
  },
  {
   "cell_type": "code",
   "execution_count": 6,
   "metadata": {
    "colab": {
     "base_uri": "https://localhost:8080/"
    },
    "id": "o5cVLeoMg0fc",
    "outputId": "e5379d39-32db-4bd4-f22d-2de6a8f708ff"
   },
   "outputs": [
    {
     "data": {
      "text/plain": [
       "index               0\n",
       "id                  0\n",
       "name                0\n",
       "album               0\n",
       "album_id            0\n",
       "artists             0\n",
       "artist_ids          0\n",
       "track_number        0\n",
       "disc_number         0\n",
       "explicit            0\n",
       "danceability        0\n",
       "energy              0\n",
       "key                 0\n",
       "loudness            0\n",
       "mode                0\n",
       "speechiness         0\n",
       "acousticness        0\n",
       "instrumentalness    0\n",
       "liveness            0\n",
       "valence             0\n",
       "tempo               0\n",
       "duration_ms         0\n",
       "time_signature      0\n",
       "year                0\n",
       "release_date        0\n",
       "dtype: int64"
      ]
     },
     "execution_count": 6,
     "metadata": {},
     "output_type": "execute_result"
    }
   ],
   "source": [
    "# no null values\n",
    "df.isnull().sum()"
   ]
  },
  {
   "cell_type": "code",
   "execution_count": 7,
   "metadata": {
    "colab": {
     "base_uri": "https://localhost:8080/",
     "height": 525
    },
    "id": "JKbhE-IehRCZ",
    "outputId": "94dfaa7a-5c41-47f9-a07b-65c845518cf8"
   },
   "outputs": [
    {
     "data": {
      "text/html": [
       "<div>\n",
       "<style scoped>\n",
       "    .dataframe tbody tr th:only-of-type {\n",
       "        vertical-align: middle;\n",
       "    }\n",
       "\n",
       "    .dataframe tbody tr th {\n",
       "        vertical-align: top;\n",
       "    }\n",
       "\n",
       "    .dataframe thead th {\n",
       "        text-align: right;\n",
       "    }\n",
       "</style>\n",
       "<table border=\"1\" class=\"dataframe\">\n",
       "  <thead>\n",
       "    <tr style=\"text-align: right;\">\n",
       "      <th></th>\n",
       "      <th>index</th>\n",
       "      <th>id</th>\n",
       "      <th>name</th>\n",
       "      <th>album</th>\n",
       "      <th>album_id</th>\n",
       "      <th>artists</th>\n",
       "      <th>artist_ids</th>\n",
       "      <th>track_number</th>\n",
       "      <th>disc_number</th>\n",
       "      <th>explicit</th>\n",
       "      <th>...</th>\n",
       "      <th>speechiness</th>\n",
       "      <th>acousticness</th>\n",
       "      <th>instrumentalness</th>\n",
       "      <th>liveness</th>\n",
       "      <th>valence</th>\n",
       "      <th>tempo</th>\n",
       "      <th>duration_ms</th>\n",
       "      <th>time_signature</th>\n",
       "      <th>year</th>\n",
       "      <th>release_date</th>\n",
       "    </tr>\n",
       "  </thead>\n",
       "  <tbody>\n",
       "    <tr>\n",
       "      <th>0</th>\n",
       "      <td>54449</td>\n",
       "      <td>1aGS6nf2xgv3Xzdob4eOO3</td>\n",
       "      <td>Smokin' Sticky Sticky</td>\n",
       "      <td>Beat'n Down Yo Block</td>\n",
       "      <td>5ZO72kl3xMRRzlpod55k1Q</td>\n",
       "      <td>['Unk']</td>\n",
       "      <td>['0PGtMx1bsqoCHCy3MB3gXA']</td>\n",
       "      <td>15</td>\n",
       "      <td>1</td>\n",
       "      <td>1</td>\n",
       "      <td>...</td>\n",
       "      <td>0.4020</td>\n",
       "      <td>0.002100</td>\n",
       "      <td>0.000000</td>\n",
       "      <td>0.0691</td>\n",
       "      <td>0.422</td>\n",
       "      <td>87.988</td>\n",
       "      <td>380427</td>\n",
       "      <td>4.0</td>\n",
       "      <td>2006</td>\n",
       "      <td>2006-10-03</td>\n",
       "    </tr>\n",
       "    <tr>\n",
       "      <th>1</th>\n",
       "      <td>127106</td>\n",
       "      <td>0fJfoqHIIiET2EcgjOfntG</td>\n",
       "      <td>Holding Back the Years</td>\n",
       "      <td>Holding Back The Years</td>\n",
       "      <td>7sV4kCqQYt8agM5TjkdOYU</td>\n",
       "      <td>['Norm Douglas']</td>\n",
       "      <td>['4kxKyoiYhldUlnfeCZtD0D']</td>\n",
       "      <td>1</td>\n",
       "      <td>1</td>\n",
       "      <td>0</td>\n",
       "      <td>...</td>\n",
       "      <td>0.0333</td>\n",
       "      <td>0.316000</td>\n",
       "      <td>0.775000</td>\n",
       "      <td>0.0993</td>\n",
       "      <td>0.880</td>\n",
       "      <td>170.082</td>\n",
       "      <td>266520</td>\n",
       "      <td>4.0</td>\n",
       "      <td>2008</td>\n",
       "      <td>2008-06-13</td>\n",
       "    </tr>\n",
       "    <tr>\n",
       "      <th>2</th>\n",
       "      <td>11213</td>\n",
       "      <td>0V2R2LC8dR7S0REieXRaGt</td>\n",
       "      <td>All Along The Watchtower - Live - 1991</td>\n",
       "      <td>Back On The Bus, Y'All</td>\n",
       "      <td>3jmmx4jRkul3POEhn1cgwF</td>\n",
       "      <td>['Indigo Girls']</td>\n",
       "      <td>['4wM29TDTr3HI0qFY3KoSFG']</td>\n",
       "      <td>7</td>\n",
       "      <td>1</td>\n",
       "      <td>0</td>\n",
       "      <td>...</td>\n",
       "      <td>0.0379</td>\n",
       "      <td>0.709000</td>\n",
       "      <td>0.000000</td>\n",
       "      <td>0.9390</td>\n",
       "      <td>0.430</td>\n",
       "      <td>90.648</td>\n",
       "      <td>383773</td>\n",
       "      <td>4.0</td>\n",
       "      <td>1991</td>\n",
       "      <td>1991-06-04</td>\n",
       "    </tr>\n",
       "    <tr>\n",
       "      <th>3</th>\n",
       "      <td>369031</td>\n",
       "      <td>4VUHYLocWOJ2GfvP78AmSs</td>\n",
       "      <td>Windmills</td>\n",
       "      <td>Total Folklore</td>\n",
       "      <td>5PyLkzuxmT6EoVNZCg8Iya</td>\n",
       "      <td>['Dan Friel']</td>\n",
       "      <td>['4HKTPJw50BFASrfhJEHIVP']</td>\n",
       "      <td>2</td>\n",
       "      <td>1</td>\n",
       "      <td>0</td>\n",
       "      <td>...</td>\n",
       "      <td>0.1090</td>\n",
       "      <td>0.000049</td>\n",
       "      <td>0.838000</td>\n",
       "      <td>0.2850</td>\n",
       "      <td>0.594</td>\n",
       "      <td>113.345</td>\n",
       "      <td>82493</td>\n",
       "      <td>4.0</td>\n",
       "      <td>2013</td>\n",
       "      <td>2013-02-19</td>\n",
       "    </tr>\n",
       "    <tr>\n",
       "      <th>4</th>\n",
       "      <td>544989</td>\n",
       "      <td>4m8a1AtmCnoeRzSYoQ0oX0</td>\n",
       "      <td>Overnite Flite</td>\n",
       "      <td>Normal Human Feelings</td>\n",
       "      <td>623VIdYR6Y0NCN9yPbMAC6</td>\n",
       "      <td>['Little Suns']</td>\n",
       "      <td>['5OLcAqMbHpecNOIQyTduQ7']</td>\n",
       "      <td>2</td>\n",
       "      <td>1</td>\n",
       "      <td>0</td>\n",
       "      <td>...</td>\n",
       "      <td>0.0323</td>\n",
       "      <td>0.427000</td>\n",
       "      <td>0.000105</td>\n",
       "      <td>0.1970</td>\n",
       "      <td>0.424</td>\n",
       "      <td>127.941</td>\n",
       "      <td>230667</td>\n",
       "      <td>1.0</td>\n",
       "      <td>2013</td>\n",
       "      <td>2013-10-08</td>\n",
       "    </tr>\n",
       "  </tbody>\n",
       "</table>\n",
       "<p>5 rows × 25 columns</p>\n",
       "</div>"
      ],
      "text/plain": [
       "    index                      id                                    name  \\\n",
       "0   54449  1aGS6nf2xgv3Xzdob4eOO3                   Smokin' Sticky Sticky   \n",
       "1  127106  0fJfoqHIIiET2EcgjOfntG                  Holding Back the Years   \n",
       "2   11213  0V2R2LC8dR7S0REieXRaGt  All Along The Watchtower - Live - 1991   \n",
       "3  369031  4VUHYLocWOJ2GfvP78AmSs                               Windmills   \n",
       "4  544989  4m8a1AtmCnoeRzSYoQ0oX0                          Overnite Flite   \n",
       "\n",
       "                    album                album_id           artists  \\\n",
       "0    Beat'n Down Yo Block  5ZO72kl3xMRRzlpod55k1Q           ['Unk']   \n",
       "1  Holding Back The Years  7sV4kCqQYt8agM5TjkdOYU  ['Norm Douglas']   \n",
       "2  Back On The Bus, Y'All  3jmmx4jRkul3POEhn1cgwF  ['Indigo Girls']   \n",
       "3          Total Folklore  5PyLkzuxmT6EoVNZCg8Iya     ['Dan Friel']   \n",
       "4   Normal Human Feelings  623VIdYR6Y0NCN9yPbMAC6   ['Little Suns']   \n",
       "\n",
       "                   artist_ids  track_number  disc_number  explicit  ...  \\\n",
       "0  ['0PGtMx1bsqoCHCy3MB3gXA']            15            1         1  ...   \n",
       "1  ['4kxKyoiYhldUlnfeCZtD0D']             1            1         0  ...   \n",
       "2  ['4wM29TDTr3HI0qFY3KoSFG']             7            1         0  ...   \n",
       "3  ['4HKTPJw50BFASrfhJEHIVP']             2            1         0  ...   \n",
       "4  ['5OLcAqMbHpecNOIQyTduQ7']             2            1         0  ...   \n",
       "\n",
       "   speechiness  acousticness  instrumentalness  liveness  valence    tempo  \\\n",
       "0       0.4020      0.002100          0.000000    0.0691    0.422   87.988   \n",
       "1       0.0333      0.316000          0.775000    0.0993    0.880  170.082   \n",
       "2       0.0379      0.709000          0.000000    0.9390    0.430   90.648   \n",
       "3       0.1090      0.000049          0.838000    0.2850    0.594  113.345   \n",
       "4       0.0323      0.427000          0.000105    0.1970    0.424  127.941   \n",
       "\n",
       "   duration_ms  time_signature  year  release_date  \n",
       "0       380427             4.0  2006    2006-10-03  \n",
       "1       266520             4.0  2008    2008-06-13  \n",
       "2       383773             4.0  1991    1991-06-04  \n",
       "3        82493             4.0  2013    2013-02-19  \n",
       "4       230667             1.0  2013    2013-10-08  \n",
       "\n",
       "[5 rows x 25 columns]"
      ]
     },
     "execution_count": 7,
     "metadata": {},
     "output_type": "execute_result"
    }
   ],
   "source": [
    "# any column that contains True and False will automatically\n",
    "# change to 1s and 0s when cast to the `int` datatype\n",
    "df['explicit'] = df['explicit'].astype(int)\n",
    "\n",
    "df.head()"
   ]
  },
  {
   "cell_type": "markdown",
   "metadata": {
    "id": "oLYmq596iMvj"
   },
   "source": [
    "## Create X Matrix of numeric song attributes"
   ]
  },
  {
   "cell_type": "code",
   "execution_count": 8,
   "metadata": {
    "colab": {
     "base_uri": "https://localhost:8080/",
     "height": 206
    },
    "id": "oc5wc7TViMGK",
    "outputId": "209a96ea-ab90-44d0-efc6-1ff7f55637cc"
   },
   "outputs": [
    {
     "data": {
      "text/html": [
       "<div>\n",
       "<style scoped>\n",
       "    .dataframe tbody tr th:only-of-type {\n",
       "        vertical-align: middle;\n",
       "    }\n",
       "\n",
       "    .dataframe tbody tr th {\n",
       "        vertical-align: top;\n",
       "    }\n",
       "\n",
       "    .dataframe thead th {\n",
       "        text-align: right;\n",
       "    }\n",
       "</style>\n",
       "<table border=\"1\" class=\"dataframe\">\n",
       "  <thead>\n",
       "    <tr style=\"text-align: right;\">\n",
       "      <th></th>\n",
       "      <th>explicit</th>\n",
       "      <th>danceability</th>\n",
       "      <th>energy</th>\n",
       "      <th>key</th>\n",
       "      <th>loudness</th>\n",
       "      <th>mode</th>\n",
       "      <th>speechiness</th>\n",
       "      <th>acousticness</th>\n",
       "      <th>time_signature</th>\n",
       "      <th>year</th>\n",
       "    </tr>\n",
       "  </thead>\n",
       "  <tbody>\n",
       "    <tr>\n",
       "      <th>0</th>\n",
       "      <td>1</td>\n",
       "      <td>0.623</td>\n",
       "      <td>0.736</td>\n",
       "      <td>11</td>\n",
       "      <td>-3.657</td>\n",
       "      <td>0</td>\n",
       "      <td>0.4020</td>\n",
       "      <td>0.002100</td>\n",
       "      <td>4.0</td>\n",
       "      <td>2006</td>\n",
       "    </tr>\n",
       "    <tr>\n",
       "      <th>1</th>\n",
       "      <td>0</td>\n",
       "      <td>0.585</td>\n",
       "      <td>0.639</td>\n",
       "      <td>2</td>\n",
       "      <td>-9.641</td>\n",
       "      <td>0</td>\n",
       "      <td>0.0333</td>\n",
       "      <td>0.316000</td>\n",
       "      <td>4.0</td>\n",
       "      <td>2008</td>\n",
       "    </tr>\n",
       "    <tr>\n",
       "      <th>2</th>\n",
       "      <td>0</td>\n",
       "      <td>0.331</td>\n",
       "      <td>0.466</td>\n",
       "      <td>9</td>\n",
       "      <td>-14.287</td>\n",
       "      <td>0</td>\n",
       "      <td>0.0379</td>\n",
       "      <td>0.709000</td>\n",
       "      <td>4.0</td>\n",
       "      <td>1991</td>\n",
       "    </tr>\n",
       "    <tr>\n",
       "      <th>3</th>\n",
       "      <td>0</td>\n",
       "      <td>0.193</td>\n",
       "      <td>0.856</td>\n",
       "      <td>4</td>\n",
       "      <td>-2.970</td>\n",
       "      <td>1</td>\n",
       "      <td>0.1090</td>\n",
       "      <td>0.000049</td>\n",
       "      <td>4.0</td>\n",
       "      <td>2013</td>\n",
       "    </tr>\n",
       "    <tr>\n",
       "      <th>4</th>\n",
       "      <td>0</td>\n",
       "      <td>0.546</td>\n",
       "      <td>0.373</td>\n",
       "      <td>3</td>\n",
       "      <td>-13.929</td>\n",
       "      <td>1</td>\n",
       "      <td>0.0323</td>\n",
       "      <td>0.427000</td>\n",
       "      <td>1.0</td>\n",
       "      <td>2013</td>\n",
       "    </tr>\n",
       "  </tbody>\n",
       "</table>\n",
       "</div>"
      ],
      "text/plain": [
       "   explicit  danceability  energy  key  loudness  mode  speechiness  \\\n",
       "0         1         0.623   0.736   11    -3.657     0       0.4020   \n",
       "1         0         0.585   0.639    2    -9.641     0       0.0333   \n",
       "2         0         0.331   0.466    9   -14.287     0       0.0379   \n",
       "3         0         0.193   0.856    4    -2.970     1       0.1090   \n",
       "4         0         0.546   0.373    3   -13.929     1       0.0323   \n",
       "\n",
       "   acousticness  time_signature  year  \n",
       "0      0.002100             4.0  2006  \n",
       "1      0.316000             4.0  2008  \n",
       "2      0.709000             4.0  1991  \n",
       "3      0.000049             4.0  2013  \n",
       "4      0.427000             1.0  2013  "
      ]
     },
     "execution_count": 8,
     "metadata": {},
     "output_type": "execute_result"
    }
   ],
   "source": [
    "usable_columns =['explicit', 'danceability', 'energy', 'key', 'loudness', \n",
    "        'mode', 'speechiness', 'acousticness', 'time_signature', 'year' ]\n",
    "\n",
    "X = df[usable_columns]\n",
    "\n",
    "X.head()"
   ]
  },
  {
   "cell_type": "markdown",
   "metadata": {
    "id": "vQ8K5g3-h-Ny"
   },
   "source": [
    "# Use Nearest Neighbors to get 5 most similar songs.\n",
    "\n",
    "> Indented block\n",
    "\n"
   ]
  },
  {
   "cell_type": "code",
   "execution_count": 27,
   "metadata": {
    "colab": {
     "base_uri": "https://localhost:8080/"
    },
    "id": "Qcwyb-uGht6m",
    "outputId": "c5420065-9f56-4c5e-d2d0-92984978a7b4"
   },
   "outputs": [
    {
     "data": {
      "text/plain": [
       "NearestNeighbors(n_jobs=-1)"
      ]
     },
     "execution_count": 27,
     "metadata": {},
     "output_type": "execute_result"
    }
   ],
   "source": [
    "neigh = NearestNeighbors(n_neighbors=5, n_jobs=-1)\n",
    "neigh.fit(X)"
   ]
  },
  {
   "cell_type": "code",
   "execution_count": 25,
   "metadata": {},
   "outputs": [
    {
     "data": {
      "text/plain": [
       "{'n_neighbors': 5,\n",
       " 'radius': 1.0,\n",
       " 'algorithm': 'auto',\n",
       " 'leaf_size': 30,\n",
       " 'metric': 'minkowski',\n",
       " 'metric_params': None,\n",
       " 'p': 2,\n",
       " 'n_jobs': -1,\n",
       " 'n_features_in_': 10,\n",
       " 'effective_metric_params_': {},\n",
       " 'effective_metric_': 'euclidean',\n",
       " '_fit_method': 'kd_tree',\n",
       " '_fit_X': array([[1.000e+00, 6.230e-01, 7.360e-01, ..., 2.100e-03, 4.000e+00,\n",
       "         2.006e+03],\n",
       "        [0.000e+00, 5.850e-01, 6.390e-01, ..., 3.160e-01, 4.000e+00,\n",
       "         2.008e+03],\n",
       "        [0.000e+00, 3.310e-01, 4.660e-01, ..., 7.090e-01, 4.000e+00,\n",
       "         1.991e+03],\n",
       "        ...,\n",
       "        [0.000e+00, 6.870e-01, 5.600e-01, ..., 3.880e-01, 4.000e+00,\n",
       "         2.004e+03],\n",
       "        [0.000e+00, 2.010e-01, 9.220e-03, ..., 9.350e-01, 4.000e+00,\n",
       "         2.003e+03],\n",
       "        [0.000e+00, 6.750e-01, 6.350e-01, ..., 7.860e-01, 4.000e+00,\n",
       "         2.003e+03]]),\n",
       " 'n_samples_fit_': 96322,\n",
       " '_tree': <sklearn.neighbors._kd_tree.KDTree at 0x1d8ff380b80>}"
      ]
     },
     "execution_count": 25,
     "metadata": {},
     "output_type": "execute_result"
    }
   ],
   "source": [
    "neigh.__dict__"
   ]
  },
  {
   "cell_type": "code",
   "execution_count": 10,
   "metadata": {
    "colab": {
     "base_uri": "https://localhost:8080/",
     "height": 309
    },
    "id": "g1y10v4TjfLT",
    "outputId": "1925a7f0-09a9-4c6e-a719-8fd25194cfbf"
   },
   "outputs": [
    {
     "data": {
      "text/html": [
       "<div>\n",
       "<style scoped>\n",
       "    .dataframe tbody tr th:only-of-type {\n",
       "        vertical-align: middle;\n",
       "    }\n",
       "\n",
       "    .dataframe tbody tr th {\n",
       "        vertical-align: top;\n",
       "    }\n",
       "\n",
       "    .dataframe thead th {\n",
       "        text-align: right;\n",
       "    }\n",
       "</style>\n",
       "<table border=\"1\" class=\"dataframe\">\n",
       "  <thead>\n",
       "    <tr style=\"text-align: right;\">\n",
       "      <th></th>\n",
       "      <th>index</th>\n",
       "      <th>id</th>\n",
       "      <th>name</th>\n",
       "      <th>album</th>\n",
       "      <th>album_id</th>\n",
       "      <th>artists</th>\n",
       "      <th>artist_ids</th>\n",
       "      <th>track_number</th>\n",
       "      <th>disc_number</th>\n",
       "      <th>explicit</th>\n",
       "      <th>...</th>\n",
       "      <th>speechiness</th>\n",
       "      <th>acousticness</th>\n",
       "      <th>instrumentalness</th>\n",
       "      <th>liveness</th>\n",
       "      <th>valence</th>\n",
       "      <th>tempo</th>\n",
       "      <th>duration_ms</th>\n",
       "      <th>time_signature</th>\n",
       "      <th>year</th>\n",
       "      <th>release_date</th>\n",
       "    </tr>\n",
       "  </thead>\n",
       "  <tbody>\n",
       "    <tr>\n",
       "      <th>1</th>\n",
       "      <td>127106</td>\n",
       "      <td>0fJfoqHIIiET2EcgjOfntG</td>\n",
       "      <td>Holding Back the Years</td>\n",
       "      <td>Holding Back The Years</td>\n",
       "      <td>7sV4kCqQYt8agM5TjkdOYU</td>\n",
       "      <td>['Norm Douglas']</td>\n",
       "      <td>['4kxKyoiYhldUlnfeCZtD0D']</td>\n",
       "      <td>1</td>\n",
       "      <td>1</td>\n",
       "      <td>0</td>\n",
       "      <td>...</td>\n",
       "      <td>0.0333</td>\n",
       "      <td>0.316</td>\n",
       "      <td>0.775</td>\n",
       "      <td>0.0993</td>\n",
       "      <td>0.880</td>\n",
       "      <td>170.082</td>\n",
       "      <td>266520</td>\n",
       "      <td>4.0</td>\n",
       "      <td>2008</td>\n",
       "      <td>2008-06-13</td>\n",
       "    </tr>\n",
       "    <tr>\n",
       "      <th>82635</th>\n",
       "      <td>259804</td>\n",
       "      <td>5F9WGLNnZRRwVyiCt1nHDr</td>\n",
       "      <td>Holding Back the Years</td>\n",
       "      <td>The Lost and Found</td>\n",
       "      <td>4fZx2cNk1Vod8jZkPSWBpv</td>\n",
       "      <td>['Gretchen Parlato']</td>\n",
       "      <td>['76Gi1qoWLrIerL5FcL0TZb']</td>\n",
       "      <td>1</td>\n",
       "      <td>1</td>\n",
       "      <td>0</td>\n",
       "      <td>...</td>\n",
       "      <td>0.0427</td>\n",
       "      <td>0.778</td>\n",
       "      <td>0.130</td>\n",
       "      <td>0.1150</td>\n",
       "      <td>0.127</td>\n",
       "      <td>92.624</td>\n",
       "      <td>226587</td>\n",
       "      <td>4.0</td>\n",
       "      <td>2011</td>\n",
       "      <td>2011-04-05</td>\n",
       "    </tr>\n",
       "  </tbody>\n",
       "</table>\n",
       "<p>2 rows × 25 columns</p>\n",
       "</div>"
      ],
      "text/plain": [
       "        index                      id                    name  \\\n",
       "1      127106  0fJfoqHIIiET2EcgjOfntG  Holding Back the Years   \n",
       "82635  259804  5F9WGLNnZRRwVyiCt1nHDr  Holding Back the Years   \n",
       "\n",
       "                        album                album_id               artists  \\\n",
       "1      Holding Back The Years  7sV4kCqQYt8agM5TjkdOYU      ['Norm Douglas']   \n",
       "82635      The Lost and Found  4fZx2cNk1Vod8jZkPSWBpv  ['Gretchen Parlato']   \n",
       "\n",
       "                       artist_ids  track_number  disc_number  explicit  ...  \\\n",
       "1      ['4kxKyoiYhldUlnfeCZtD0D']             1            1         0  ...   \n",
       "82635  ['76Gi1qoWLrIerL5FcL0TZb']             1            1         0  ...   \n",
       "\n",
       "       speechiness  acousticness  instrumentalness  liveness  valence  \\\n",
       "1           0.0333         0.316             0.775    0.0993    0.880   \n",
       "82635       0.0427         0.778             0.130    0.1150    0.127   \n",
       "\n",
       "         tempo  duration_ms  time_signature  year  release_date  \n",
       "1      170.082       266520             4.0  2008    2008-06-13  \n",
       "82635   92.624       226587             4.0  2011    2011-04-05  \n",
       "\n",
       "[2 rows x 25 columns]"
      ]
     },
     "execution_count": 10,
     "metadata": {},
     "output_type": "execute_result"
    }
   ],
   "source": [
    "# Track name needs to be exact match of spelling, punctuation and capitalization\n",
    "track_name = \"Holding Back the Years\"\n",
    "\n",
    "# Look at the song that we want to find recommendations for\n",
    "df[df['name'] == track_name]"
   ]
  },
  {
   "cell_type": "code",
   "execution_count": 18,
   "metadata": {},
   "outputs": [
    {
     "data": {
      "text/plain": [
       "1"
      ]
     },
     "execution_count": 18,
     "metadata": {},
     "output_type": "execute_result"
    }
   ],
   "source": [
    "df[df['name'] == track_name].index[0]"
   ]
  },
  {
   "cell_type": "code",
   "execution_count": 11,
   "metadata": {
    "colab": {
     "base_uri": "https://localhost:8080/"
    },
    "id": "jEXyhLTNyff7",
    "outputId": "b5b9ac44-76d7-4345-958d-3183dd43ec0a"
   },
   "outputs": [
    {
     "data": {
      "text/plain": [
       "explicit             0.0000\n",
       "danceability         0.5850\n",
       "energy               0.6390\n",
       "key                  2.0000\n",
       "loudness            -9.6410\n",
       "mode                 0.0000\n",
       "speechiness          0.0333\n",
       "acousticness         0.3160\n",
       "time_signature       4.0000\n",
       "year              2008.0000\n",
       "Name: 1, dtype: float64"
      ]
     },
     "execution_count": 11,
     "metadata": {},
     "output_type": "execute_result"
    }
   ],
   "source": [
    "# We may have multiple tracks that match this title, we'll just select the first one\n",
    "# We'll grab only its row index and then use that select the corresponding song's\n",
    "# data from our X matrix.\n",
    "track_index = df[df['name'] == track_name].index[0]\n",
    "\n",
    "track_data = X.iloc[track_index]\n",
    "\n",
    "track_data"
   ]
  },
  {
   "cell_type": "code",
   "execution_count": 12,
   "metadata": {
    "colab": {
     "base_uri": "https://localhost:8080/"
    },
    "id": "JFYIauozk-lx",
    "outputId": "d2fe7133-ce74-4372-c16b-13ec733ac83f"
   },
   "outputs": [
    {
     "data": {
      "text/plain": [
       "array([[ 0.000e+00,  5.850e-01,  6.390e-01,  2.000e+00, -9.641e+00,\n",
       "         0.000e+00,  3.330e-02,  3.160e-01,  4.000e+00,  2.008e+03]])"
      ]
     },
     "execution_count": 12,
     "metadata": {},
     "output_type": "execute_result"
    }
   ],
   "source": [
    "# Input to model must be a 2D array\n",
    "# .reshape(1,-1) turns a 1D array into a 2D array\n",
    "# (basically just adds an extra set of square brackets at\n",
    "# the beginning and end of the array.)\n",
    "track_data = track_data.values.reshape(1,-1)\n",
    "\n",
    "track_data"
   ]
  },
  {
   "cell_type": "code",
   "execution_count": 16,
   "metadata": {
    "colab": {
     "base_uri": "https://localhost:8080/"
    },
    "id": "ulHQX0Vck1S_",
    "outputId": "07ceec92-ef59-479d-b458-833395381a87"
   },
   "outputs": [
    {
     "data": {
      "text/plain": [
       "array([[    1, 69557, 34753,  7222, 50380, 37367]], dtype=int64)"
      ]
     },
     "execution_count": 16,
     "metadata": {},
     "output_type": "execute_result"
    }
   ],
   "source": [
    "# Since the selected song is also in the training data,\n",
    "# the most similar song is itself \n",
    "# We will ask for 6 songs to get back 5 songs in addition to the one provided\n",
    "distances, song_indexes = neigh.kneighbors(track_data, 6)\n",
    "\n",
    "song_indexes"
   ]
  },
  {
   "cell_type": "code",
   "execution_count": 17,
   "metadata": {
    "colab": {
     "base_uri": "https://localhost:8080/"
    },
    "id": "m9eaSfkWmPI1",
    "outputId": "c7de5ce6-3c64-41a1-b473-316370caabde"
   },
   "outputs": [
    {
     "name": "stdout",
     "output_type": "stream",
     "text": [
      "                            name                  artists\n",
      "1         Holding Back the Years         ['Norm Douglas']\n",
      "69557                 Ma Mélodie           ['Feet Peals']\n",
      "34753     Minha Bênção (Ao Vivo)  ['Padre Marcelo Rossi']\n",
      "7222   Stuck In A Glass Elevator           ['The Myriad']\n",
      "50380        Club Hip Hop Beat 2       ['Jorge Quintero']\n",
      "37367           Like...monk-like    ['The Reese Project']\n"
     ]
    }
   ],
   "source": [
    "# 5 most similar songs\n",
    "for index in song_indexes:\n",
    "  print(df.iloc[index][['name', 'artists']])"
   ]
  }
 ],
 "metadata": {
  "colab": {
   "name": "Spotify_Recommender.ipynb",
   "provenance": []
  },
  "kernelspec": {
   "display_name": "Python 3 (ipykernel)",
   "language": "python",
   "name": "python3"
  },
  "language_info": {
   "codemirror_mode": {
    "name": "ipython",
    "version": 3
   },
   "file_extension": ".py",
   "mimetype": "text/x-python",
   "name": "python",
   "nbconvert_exporter": "python",
   "pygments_lexer": "ipython3",
   "version": "3.9.7"
  }
 },
 "nbformat": 4,
 "nbformat_minor": 1
}
