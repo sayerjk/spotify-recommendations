{
 "cells": [
  {
   "cell_type": "markdown",
   "metadata": {},
   "source": [
    "#### Move track_features.csv to sqlite3 database"
   ]
  },
  {
   "cell_type": "code",
   "execution_count": 1,
   "metadata": {},
   "outputs": [],
   "source": [
    "import pandas as pd\n",
    "import sqlite3"
   ]
  },
  {
   "cell_type": "code",
   "execution_count": 2,
   "metadata": {},
   "outputs": [],
   "source": [
    "def connect_to_db(db_name = 'tracks_features.sqlite3'):\n",
    "    return sqlite3.connect(db_name)\n",
    "\n",
    "def query_exe(conn, query):\n",
    "    cursor = conn.cursor()\n",
    "    cursor.execute(query)\n",
    "    return cursor.fetchall()"
   ]
  },
  {
   "cell_type": "code",
   "execution_count": 3,
   "metadata": {},
   "outputs": [],
   "source": [
    "# Create connection and cursor objects for tracks_features.sqlite3 \n",
    "# . Needed to interface w/ sqlite3 db\n",
    "conn = connect_to_db()\n",
    "curs = conn.cursor()\n",
    "\n",
    "df = pd.read_csv('tracks_features.csv')\n",
    "df = df.sample(frac=.08, random_state=42).reset_index()"
   ]
  },
  {
   "cell_type": "code",
   "execution_count": 4,
   "metadata": {},
   "outputs": [
    {
     "data": {
      "text/plain": [
       "96322"
      ]
     },
     "execution_count": 4,
     "metadata": {},
     "output_type": "execute_result"
    }
   ],
   "source": [
    "df.to_sql('music', conn, if_exists='replace')"
   ]
  },
  {
   "cell_type": "code",
   "execution_count": 11,
   "metadata": {},
   "outputs": [],
   "source": [
    "query_12 = 'SELECT * FROM music LIMIT 12'\n",
    "r_query_12 = query_exe(conn, query_12)\n"
   ]
  },
  {
   "cell_type": "code",
   "execution_count": 24,
   "metadata": {},
   "outputs": [
    {
     "data": {
      "text/plain": [
       "(\"Smokin' Sticky Sticky\",\n",
       " \"Beat'n Down Yo Block\",\n",
       " '5ZO72kl3xMRRzlpod55k1Q',\n",
       " \"['Unk']\",\n",
       " \"['0PGtMx1bsqoCHCy3MB3gXA']\")"
      ]
     },
     "execution_count": 24,
     "metadata": {},
     "output_type": "execute_result"
    }
   ],
   "source": [
    "r_query_12[0][2:7]"
   ]
  },
  {
   "cell_type": "code",
   "execution_count": null,
   "metadata": {},
   "outputs": [],
   "source": []
  }
 ],
 "metadata": {
  "interpreter": {
   "hash": "2e2533bb05faefa5caab4f06befb8431ee548a1a020743e540fbfb63565b5a69"
  },
  "kernelspec": {
   "display_name": "Python 3 (ipykernel)",
   "language": "python",
   "name": "python3"
  },
  "language_info": {
   "codemirror_mode": {
    "name": "ipython",
    "version": 3
   },
   "file_extension": ".py",
   "mimetype": "text/x-python",
   "name": "python",
   "nbconvert_exporter": "python",
   "pygments_lexer": "ipython3",
   "version": "3.9.7"
  }
 },
 "nbformat": 4,
 "nbformat_minor": 2
}
